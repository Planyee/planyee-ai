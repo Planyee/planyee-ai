{
  "nbformat": 4,
  "nbformat_minor": 0,
  "metadata": {
    "colab": {
      "provenance": [],
      "machine_shape": "hm"
    },
    "kernelspec": {
      "name": "python3",
      "display_name": "Python 3"
    },
    "accelerator": "GPU"
  },
  "cells": [
    {
      "cell_type": "markdown",
      "metadata": {
        "id": "HzPKKqtX8FAr"
      },
      "source": []
    },
    {
      "cell_type": "code",
      "source": [
        "#pip install gensim==4.3.0\n"
      ],
      "metadata": {
        "id": "a1svnkQgQtaH"
      },
      "execution_count": 1,
      "outputs": []
    },
    {
      "cell_type": "code",
      "metadata": {
        "colab": {
          "base_uri": "https://localhost:8080/",
          "height": 35
        },
        "id": "cLfaxv367yZA",
        "outputId": "87bc5ea0-ee51-4f72-cfc7-e05d8b625bdb"
      },
      "source": [
        "import gensim\n",
        "gensim.__version__"
      ],
      "execution_count": 2,
      "outputs": [
        {
          "output_type": "execute_result",
          "data": {
            "text/plain": [
              "'4.3.0'"
            ],
            "application/vnd.google.colaboratory.intrinsic+json": {
              "type": "string"
            }
          },
          "metadata": {},
          "execution_count": 2
        }
      ]
    },
    {
      "cell_type": "code",
      "source": [
        "!pip install konlpy\n",
        "!pip install mecab-python"
      ],
      "metadata": {
        "colab": {
          "base_uri": "https://localhost:8080/"
        },
        "id": "n2G3jA-IwqJY",
        "outputId": "b7fa05ee-72ef-431e-9a6b-23158e5af176"
      },
      "execution_count": 3,
      "outputs": [
        {
          "output_type": "stream",
          "name": "stdout",
          "text": [
            "Requirement already satisfied: konlpy in /usr/local/lib/python3.10/dist-packages (0.6.0)\n",
            "Requirement already satisfied: JPype1>=0.7.0 in /usr/local/lib/python3.10/dist-packages (from konlpy) (1.4.1)\n",
            "Requirement already satisfied: lxml>=4.1.0 in /usr/local/lib/python3.10/dist-packages (from konlpy) (4.9.3)\n",
            "Requirement already satisfied: numpy>=1.6 in /usr/local/lib/python3.10/dist-packages (from konlpy) (1.23.5)\n",
            "Requirement already satisfied: packaging in /usr/local/lib/python3.10/dist-packages (from JPype1>=0.7.0->konlpy) (23.2)\n",
            "Requirement already satisfied: mecab-python in /usr/local/lib/python3.10/dist-packages (1.0.0)\n",
            "Requirement already satisfied: mecab-python3 in /usr/local/lib/python3.10/dist-packages (from mecab-python) (1.0.8)\n"
          ]
        }
      ]
    },
    {
      "cell_type": "code",
      "source": [
        "from google.colab import drive\n",
        "drive.mount('/content/my_home')\n"
      ],
      "metadata": {
        "colab": {
          "base_uri": "https://localhost:8080/"
        },
        "id": "gChO2pwphhN6",
        "outputId": "7c0514a4-5514-4a42-87c8-b5ba65caa076"
      },
      "execution_count": 4,
      "outputs": [
        {
          "output_type": "stream",
          "name": "stdout",
          "text": [
            "Drive already mounted at /content/my_home; to attempt to forcibly remount, call drive.mount(\"/content/my_home\", force_remount=True).\n"
          ]
        }
      ]
    },
    {
      "cell_type": "code",
      "source": [
        "#from konlpy.tag import Mecab\n",
        "#mecab = Mecab()"
      ],
      "metadata": {
        "id": "ktq8x48gg5lM"
      },
      "execution_count": 5,
      "outputs": []
    },
    {
      "cell_type": "markdown",
      "source": [
        "# 1. 데이터 로드"
      ],
      "metadata": {
        "id": "9EejklfiZqt4"
      }
    },
    {
      "cell_type": "code",
      "metadata": {
        "id": "oozJ_MQ9-1Pe"
      },
      "source": [
        "\n",
        "import pandas as pd\n",
        "import matplotlib.pyplot as plt\n",
        "import urllib.request\n",
        "from tqdm import tqdm\n",
        "from gensim.models.word2vec import Word2Vec\n",
        "from konlpy.tag import Okt"
      ],
      "execution_count": 6,
      "outputs": []
    },
    {
      "cell_type": "code",
      "metadata": {
        "id": "ehTnR3Na6_6q"
      },
      "source": [
        "#nltk.download('stopwords')\n",
        "stopwords = ['의','가','이','은','들','는','좀','잘','걍','과','도','를','으로','자','에','와','한','하다']\n"
      ],
      "execution_count": 7,
      "outputs": []
    },
    {
      "cell_type": "code",
      "metadata": {
        "id": "hcZp-UhzC9Dc",
        "colab": {
          "base_uri": "https://localhost:8080/",
          "height": 423
        },
        "outputId": "a4bc269d-a5f8-4c02-fd93-4c44146018d5"
      },
      "source": [
        "df = pd.read_csv(\"/content/my_home/MyDrive/Colab Notebooks/Result.csv\", encoding='utf-8')\n",
        "column_name = ['index', 'place', 'information', 'category']\n",
        "\n",
        "data = df.values.tolist()\n",
        "\n",
        "df = pd.DataFrame(data, columns=column_name)\n",
        "df"
      ],
      "execution_count": 8,
      "outputs": [
        {
          "output_type": "execute_result",
          "data": {
            "text/plain": [
              "      index          place                                        information  \\\n",
              "0        16          광화문광장  조선 태조는 1394년에 도읍을 한양으로 옮기고 정국인 경복궁을 지었다. 그리고 궁...   \n",
              "1        17          63스퀘어  여의도 63빌딩은 볼거리, 먹을거리, 즐길거리 등을 갖춘 복합 공간이다. 빌딩의 맨...   \n",
              "2        18           서울광장  서울에서 신발을 벗고 걸을 수 있는 곳. 따스한 햇살을 이불 삼아 낮잠을 청할 수 ...   \n",
              "3        19            세빛섬  ‘한강을 아름답게 밝혀주는 세 개의 빛나는 섬’이란 의미를 지닌 세빛섬은 세계 최초...   \n",
              "4        20          국회의사당  여의도에 위치한 국회의사당은 한국의 민주주의와 인권을 상징하는 건물이다. 국회의사당...   \n",
              "...     ...            ...                                                ...   \n",
              "1897   1913   [백년가게] 시골감자국  김이 모락모락 나는 국물에서는 진한 육수만의 깊은 맛과 구수한 향이 코를 자극하며 ...   \n",
              "1898   1914   [백년가게] 삼천포식당  달궈진 돌판 위에 고기가 올라서면 옅은 연기, 치이익 소리와 함께 기분 좋은 냄새가...   \n",
              "1899   1915  [백년가게] 엘리제과자점  엘리제과자점은 21세에 제빵계에 입문해 38년간 경쟁력을 키워온 제과 국가대표의 모...   \n",
              "1900   1916     [백년가게] 평양옥  평양옥은 맑고 깊은 닭곰탕으로 서대문을 대표하는 맛집이다. 대표자가 어머님에게 물려...   \n",
              "1901   1917    [백년가게] 포도나무  포도나무는 대표적인 남도 토속음식 중 하나인 짱뚱어탕을 25년째 고수하고 있는 짱뚱...   \n",
              "\n",
              "     category  \n",
              "0        랜드마크  \n",
              "1        랜드마크  \n",
              "2        랜드마크  \n",
              "3        랜드마크  \n",
              "4        랜드마크  \n",
              "...       ...  \n",
              "1897     백년가게  \n",
              "1898     백년가게  \n",
              "1899     백년가게  \n",
              "1900     백년가게  \n",
              "1901     백년가게  \n",
              "\n",
              "[1902 rows x 4 columns]"
            ],
            "text/html": [
              "\n",
              "  <div id=\"df-5c78b5ca-3868-481d-9726-514706d700d7\" class=\"colab-df-container\">\n",
              "    <div>\n",
              "<style scoped>\n",
              "    .dataframe tbody tr th:only-of-type {\n",
              "        vertical-align: middle;\n",
              "    }\n",
              "\n",
              "    .dataframe tbody tr th {\n",
              "        vertical-align: top;\n",
              "    }\n",
              "\n",
              "    .dataframe thead th {\n",
              "        text-align: right;\n",
              "    }\n",
              "</style>\n",
              "<table border=\"1\" class=\"dataframe\">\n",
              "  <thead>\n",
              "    <tr style=\"text-align: right;\">\n",
              "      <th></th>\n",
              "      <th>index</th>\n",
              "      <th>place</th>\n",
              "      <th>information</th>\n",
              "      <th>category</th>\n",
              "    </tr>\n",
              "  </thead>\n",
              "  <tbody>\n",
              "    <tr>\n",
              "      <th>0</th>\n",
              "      <td>16</td>\n",
              "      <td>광화문광장</td>\n",
              "      <td>조선 태조는 1394년에 도읍을 한양으로 옮기고 정국인 경복궁을 지었다. 그리고 궁...</td>\n",
              "      <td>랜드마크</td>\n",
              "    </tr>\n",
              "    <tr>\n",
              "      <th>1</th>\n",
              "      <td>17</td>\n",
              "      <td>63스퀘어</td>\n",
              "      <td>여의도 63빌딩은 볼거리, 먹을거리, 즐길거리 등을 갖춘 복합 공간이다. 빌딩의 맨...</td>\n",
              "      <td>랜드마크</td>\n",
              "    </tr>\n",
              "    <tr>\n",
              "      <th>2</th>\n",
              "      <td>18</td>\n",
              "      <td>서울광장</td>\n",
              "      <td>서울에서 신발을 벗고 걸을 수 있는 곳. 따스한 햇살을 이불 삼아 낮잠을 청할 수 ...</td>\n",
              "      <td>랜드마크</td>\n",
              "    </tr>\n",
              "    <tr>\n",
              "      <th>3</th>\n",
              "      <td>19</td>\n",
              "      <td>세빛섬</td>\n",
              "      <td>‘한강을 아름답게 밝혀주는 세 개의 빛나는 섬’이란 의미를 지닌 세빛섬은 세계 최초...</td>\n",
              "      <td>랜드마크</td>\n",
              "    </tr>\n",
              "    <tr>\n",
              "      <th>4</th>\n",
              "      <td>20</td>\n",
              "      <td>국회의사당</td>\n",
              "      <td>여의도에 위치한 국회의사당은 한국의 민주주의와 인권을 상징하는 건물이다. 국회의사당...</td>\n",
              "      <td>랜드마크</td>\n",
              "    </tr>\n",
              "    <tr>\n",
              "      <th>...</th>\n",
              "      <td>...</td>\n",
              "      <td>...</td>\n",
              "      <td>...</td>\n",
              "      <td>...</td>\n",
              "    </tr>\n",
              "    <tr>\n",
              "      <th>1897</th>\n",
              "      <td>1913</td>\n",
              "      <td>[백년가게] 시골감자국</td>\n",
              "      <td>김이 모락모락 나는 국물에서는 진한 육수만의 깊은 맛과 구수한 향이 코를 자극하며 ...</td>\n",
              "      <td>백년가게</td>\n",
              "    </tr>\n",
              "    <tr>\n",
              "      <th>1898</th>\n",
              "      <td>1914</td>\n",
              "      <td>[백년가게] 삼천포식당</td>\n",
              "      <td>달궈진 돌판 위에 고기가 올라서면 옅은 연기, 치이익 소리와 함께 기분 좋은 냄새가...</td>\n",
              "      <td>백년가게</td>\n",
              "    </tr>\n",
              "    <tr>\n",
              "      <th>1899</th>\n",
              "      <td>1915</td>\n",
              "      <td>[백년가게] 엘리제과자점</td>\n",
              "      <td>엘리제과자점은 21세에 제빵계에 입문해 38년간 경쟁력을 키워온 제과 국가대표의 모...</td>\n",
              "      <td>백년가게</td>\n",
              "    </tr>\n",
              "    <tr>\n",
              "      <th>1900</th>\n",
              "      <td>1916</td>\n",
              "      <td>[백년가게] 평양옥</td>\n",
              "      <td>평양옥은 맑고 깊은 닭곰탕으로 서대문을 대표하는 맛집이다. 대표자가 어머님에게 물려...</td>\n",
              "      <td>백년가게</td>\n",
              "    </tr>\n",
              "    <tr>\n",
              "      <th>1901</th>\n",
              "      <td>1917</td>\n",
              "      <td>[백년가게] 포도나무</td>\n",
              "      <td>포도나무는 대표적인 남도 토속음식 중 하나인 짱뚱어탕을 25년째 고수하고 있는 짱뚱...</td>\n",
              "      <td>백년가게</td>\n",
              "    </tr>\n",
              "  </tbody>\n",
              "</table>\n",
              "<p>1902 rows × 4 columns</p>\n",
              "</div>\n",
              "    <div class=\"colab-df-buttons\">\n",
              "\n",
              "  <div class=\"colab-df-container\">\n",
              "    <button class=\"colab-df-convert\" onclick=\"convertToInteractive('df-5c78b5ca-3868-481d-9726-514706d700d7')\"\n",
              "            title=\"Convert this dataframe to an interactive table.\"\n",
              "            style=\"display:none;\">\n",
              "\n",
              "  <svg xmlns=\"http://www.w3.org/2000/svg\" height=\"24px\" viewBox=\"0 -960 960 960\">\n",
              "    <path d=\"M120-120v-720h720v720H120Zm60-500h600v-160H180v160Zm220 220h160v-160H400v160Zm0 220h160v-160H400v160ZM180-400h160v-160H180v160Zm440 0h160v-160H620v160ZM180-180h160v-160H180v160Zm440 0h160v-160H620v160Z\"/>\n",
              "  </svg>\n",
              "    </button>\n",
              "\n",
              "  <style>\n",
              "    .colab-df-container {\n",
              "      display:flex;\n",
              "      gap: 12px;\n",
              "    }\n",
              "\n",
              "    .colab-df-convert {\n",
              "      background-color: #E8F0FE;\n",
              "      border: none;\n",
              "      border-radius: 50%;\n",
              "      cursor: pointer;\n",
              "      display: none;\n",
              "      fill: #1967D2;\n",
              "      height: 32px;\n",
              "      padding: 0 0 0 0;\n",
              "      width: 32px;\n",
              "    }\n",
              "\n",
              "    .colab-df-convert:hover {\n",
              "      background-color: #E2EBFA;\n",
              "      box-shadow: 0px 1px 2px rgba(60, 64, 67, 0.3), 0px 1px 3px 1px rgba(60, 64, 67, 0.15);\n",
              "      fill: #174EA6;\n",
              "    }\n",
              "\n",
              "    .colab-df-buttons div {\n",
              "      margin-bottom: 4px;\n",
              "    }\n",
              "\n",
              "    [theme=dark] .colab-df-convert {\n",
              "      background-color: #3B4455;\n",
              "      fill: #D2E3FC;\n",
              "    }\n",
              "\n",
              "    [theme=dark] .colab-df-convert:hover {\n",
              "      background-color: #434B5C;\n",
              "      box-shadow: 0px 1px 3px 1px rgba(0, 0, 0, 0.15);\n",
              "      filter: drop-shadow(0px 1px 2px rgba(0, 0, 0, 0.3));\n",
              "      fill: #FFFFFF;\n",
              "    }\n",
              "  </style>\n",
              "\n",
              "    <script>\n",
              "      const buttonEl =\n",
              "        document.querySelector('#df-5c78b5ca-3868-481d-9726-514706d700d7 button.colab-df-convert');\n",
              "      buttonEl.style.display =\n",
              "        google.colab.kernel.accessAllowed ? 'block' : 'none';\n",
              "\n",
              "      async function convertToInteractive(key) {\n",
              "        const element = document.querySelector('#df-5c78b5ca-3868-481d-9726-514706d700d7');\n",
              "        const dataTable =\n",
              "          await google.colab.kernel.invokeFunction('convertToInteractive',\n",
              "                                                    [key], {});\n",
              "        if (!dataTable) return;\n",
              "\n",
              "        const docLinkHtml = 'Like what you see? Visit the ' +\n",
              "          '<a target=\"_blank\" href=https://colab.research.google.com/notebooks/data_table.ipynb>data table notebook</a>'\n",
              "          + ' to learn more about interactive tables.';\n",
              "        element.innerHTML = '';\n",
              "        dataTable['output_type'] = 'display_data';\n",
              "        await google.colab.output.renderOutput(dataTable, element);\n",
              "        const docLink = document.createElement('div');\n",
              "        docLink.innerHTML = docLinkHtml;\n",
              "        element.appendChild(docLink);\n",
              "      }\n",
              "    </script>\n",
              "  </div>\n",
              "\n",
              "\n",
              "<div id=\"df-ba6c6151-5785-4a1f-a2aa-0f5754777084\">\n",
              "  <button class=\"colab-df-quickchart\" onclick=\"quickchart('df-ba6c6151-5785-4a1f-a2aa-0f5754777084')\"\n",
              "            title=\"Suggest charts.\"\n",
              "            style=\"display:none;\">\n",
              "\n",
              "<svg xmlns=\"http://www.w3.org/2000/svg\" height=\"24px\"viewBox=\"0 0 24 24\"\n",
              "     width=\"24px\">\n",
              "    <g>\n",
              "        <path d=\"M19 3H5c-1.1 0-2 .9-2 2v14c0 1.1.9 2 2 2h14c1.1 0 2-.9 2-2V5c0-1.1-.9-2-2-2zM9 17H7v-7h2v7zm4 0h-2V7h2v10zm4 0h-2v-4h2v4z\"/>\n",
              "    </g>\n",
              "</svg>\n",
              "  </button>\n",
              "\n",
              "<style>\n",
              "  .colab-df-quickchart {\n",
              "      --bg-color: #E8F0FE;\n",
              "      --fill-color: #1967D2;\n",
              "      --hover-bg-color: #E2EBFA;\n",
              "      --hover-fill-color: #174EA6;\n",
              "      --disabled-fill-color: #AAA;\n",
              "      --disabled-bg-color: #DDD;\n",
              "  }\n",
              "\n",
              "  [theme=dark] .colab-df-quickchart {\n",
              "      --bg-color: #3B4455;\n",
              "      --fill-color: #D2E3FC;\n",
              "      --hover-bg-color: #434B5C;\n",
              "      --hover-fill-color: #FFFFFF;\n",
              "      --disabled-bg-color: #3B4455;\n",
              "      --disabled-fill-color: #666;\n",
              "  }\n",
              "\n",
              "  .colab-df-quickchart {\n",
              "    background-color: var(--bg-color);\n",
              "    border: none;\n",
              "    border-radius: 50%;\n",
              "    cursor: pointer;\n",
              "    display: none;\n",
              "    fill: var(--fill-color);\n",
              "    height: 32px;\n",
              "    padding: 0;\n",
              "    width: 32px;\n",
              "  }\n",
              "\n",
              "  .colab-df-quickchart:hover {\n",
              "    background-color: var(--hover-bg-color);\n",
              "    box-shadow: 0 1px 2px rgba(60, 64, 67, 0.3), 0 1px 3px 1px rgba(60, 64, 67, 0.15);\n",
              "    fill: var(--button-hover-fill-color);\n",
              "  }\n",
              "\n",
              "  .colab-df-quickchart-complete:disabled,\n",
              "  .colab-df-quickchart-complete:disabled:hover {\n",
              "    background-color: var(--disabled-bg-color);\n",
              "    fill: var(--disabled-fill-color);\n",
              "    box-shadow: none;\n",
              "  }\n",
              "\n",
              "  .colab-df-spinner {\n",
              "    border: 2px solid var(--fill-color);\n",
              "    border-color: transparent;\n",
              "    border-bottom-color: var(--fill-color);\n",
              "    animation:\n",
              "      spin 1s steps(1) infinite;\n",
              "  }\n",
              "\n",
              "  @keyframes spin {\n",
              "    0% {\n",
              "      border-color: transparent;\n",
              "      border-bottom-color: var(--fill-color);\n",
              "      border-left-color: var(--fill-color);\n",
              "    }\n",
              "    20% {\n",
              "      border-color: transparent;\n",
              "      border-left-color: var(--fill-color);\n",
              "      border-top-color: var(--fill-color);\n",
              "    }\n",
              "    30% {\n",
              "      border-color: transparent;\n",
              "      border-left-color: var(--fill-color);\n",
              "      border-top-color: var(--fill-color);\n",
              "      border-right-color: var(--fill-color);\n",
              "    }\n",
              "    40% {\n",
              "      border-color: transparent;\n",
              "      border-right-color: var(--fill-color);\n",
              "      border-top-color: var(--fill-color);\n",
              "    }\n",
              "    60% {\n",
              "      border-color: transparent;\n",
              "      border-right-color: var(--fill-color);\n",
              "    }\n",
              "    80% {\n",
              "      border-color: transparent;\n",
              "      border-right-color: var(--fill-color);\n",
              "      border-bottom-color: var(--fill-color);\n",
              "    }\n",
              "    90% {\n",
              "      border-color: transparent;\n",
              "      border-bottom-color: var(--fill-color);\n",
              "    }\n",
              "  }\n",
              "</style>\n",
              "\n",
              "  <script>\n",
              "    async function quickchart(key) {\n",
              "      const quickchartButtonEl =\n",
              "        document.querySelector('#' + key + ' button');\n",
              "      quickchartButtonEl.disabled = true;  // To prevent multiple clicks.\n",
              "      quickchartButtonEl.classList.add('colab-df-spinner');\n",
              "      try {\n",
              "        const charts = await google.colab.kernel.invokeFunction(\n",
              "            'suggestCharts', [key], {});\n",
              "      } catch (error) {\n",
              "        console.error('Error during call to suggestCharts:', error);\n",
              "      }\n",
              "      quickchartButtonEl.classList.remove('colab-df-spinner');\n",
              "      quickchartButtonEl.classList.add('colab-df-quickchart-complete');\n",
              "    }\n",
              "    (() => {\n",
              "      let quickchartButtonEl =\n",
              "        document.querySelector('#df-ba6c6151-5785-4a1f-a2aa-0f5754777084 button');\n",
              "      quickchartButtonEl.style.display =\n",
              "        google.colab.kernel.accessAllowed ? 'block' : 'none';\n",
              "    })();\n",
              "  </script>\n",
              "</div>\n",
              "    </div>\n",
              "  </div>\n"
            ]
          },
          "metadata": {},
          "execution_count": 8
        }
      ]
    },
    {
      "cell_type": "code",
      "metadata": {
        "colab": {
          "base_uri": "https://localhost:8080/"
        },
        "id": "5ZEZjXg9198T",
        "outputId": "6c73245a-5f12-4d96-d1ec-000884104b83"
      },
      "source": [
        "print('전체 문서의 수 :',len(df))"
      ],
      "execution_count": 9,
      "outputs": [
        {
          "output_type": "stream",
          "name": "stdout",
          "text": [
            "전체 문서의 수 : 1902\n"
          ]
        }
      ]
    },
    {
      "cell_type": "code",
      "source": [
        "\n",
        "print('NULL 값 존재 유무 :', df.isnull().values.any())\n",
        "\n",
        "df = df.dropna(how = 'any') # Null 값이 존재하는 행 제거\n",
        "print('NULL 값 존재 유무 :', df.isnull().values.any()) # Null 값이 존재하는지 확인"
      ],
      "metadata": {
        "colab": {
          "base_uri": "https://localhost:8080/"
        },
        "id": "p0JzEUQSr5bd",
        "outputId": "44c4a73c-e8f8-45d8-8dd5-0f0f7ab81b07"
      },
      "execution_count": 10,
      "outputs": [
        {
          "output_type": "stream",
          "name": "stdout",
          "text": [
            "NULL 값 존재 유무 : True\n",
            "NULL 값 존재 유무 : False\n"
          ]
        }
      ]
    },
    {
      "cell_type": "code",
      "source": [
        "df['information'] = df['information'].str.replace(\"[^ㄱ-ㅎㅏ-ㅣ가-힣 ]\",\"\")\n",
        "df['information']"
      ],
      "metadata": {
        "colab": {
          "base_uri": "https://localhost:8080/"
        },
        "id": "JgMCblVHrKoR",
        "outputId": "8895f189-5387-4685-af2d-cdd33b61e1db"
      },
      "execution_count": 11,
      "outputs": [
        {
          "output_type": "stream",
          "name": "stderr",
          "text": [
            "<ipython-input-11-4239b0d319d6>:1: FutureWarning: The default value of regex will change from True to False in a future version.\n",
            "  df['information'] = df['information'].str.replace(\"[^ㄱ-ㅎㅏ-ㅣ가-힣 ]\",\"\")\n",
            "<ipython-input-11-4239b0d319d6>:1: SettingWithCopyWarning: \n",
            "A value is trying to be set on a copy of a slice from a DataFrame.\n",
            "Try using .loc[row_indexer,col_indexer] = value instead\n",
            "\n",
            "See the caveats in the documentation: https://pandas.pydata.org/pandas-docs/stable/user_guide/indexing.html#returning-a-view-versus-a-copy\n",
            "  df['information'] = df['information'].str.replace(\"[^ㄱ-ㅎㅏ-ㅣ가-힣 ]\",\"\")\n"
          ]
        },
        {
          "output_type": "execute_result",
          "data": {
            "text/plain": [
              "0       조선 태조는 년에 도읍을 한양으로 옮기고 정국인 경복궁을 지었다 그리고 궁의 정문인...\n",
              "1       여의도 빌딩은 볼거리 먹을거리 즐길거리 등을 갖춘 복합 공간이다 빌딩의 맨 꼭대기 ...\n",
              "2       서울에서 신발을 벗고 걸을 수 있는 곳 따스한 햇살을 이불 삼아 낮잠을 청할 수 있...\n",
              "3       한강을 아름답게 밝혀주는 세 개의 빛나는 섬이란 의미를 지닌 세빛섬은 세계 최초의 ...\n",
              "4       여의도에 위치한 국회의사당은 한국의 민주주의와 인권을 상징하는 건물이다 국회의사당 ...\n",
              "                              ...                        \n",
              "1897    김이 모락모락 나는 국물에서는 진한 육수만의 깊은 맛과 구수한 향이 코를 자극하며 ...\n",
              "1898    달궈진 돌판 위에 고기가 올라서면 옅은 연기 치이익 소리와 함께 기분 좋은 냄새가 ...\n",
              "1899    엘리제과자점은 세에 제빵계에 입문해 년간 경쟁력을 키워온 제과 국가대표의 모든 역량...\n",
              "1900    평양옥은 맑고 깊은 닭곰탕으로 서대문을 대표하는 맛집이다 대표자가 어머님에게 물려받...\n",
              "1901    포도나무는 대표적인 남도 토속음식 중 하나인 짱뚱어탕을 년째 고수하고 있는 짱뚱어탕...\n",
              "Name: information, Length: 1898, dtype: object"
            ]
          },
          "metadata": {},
          "execution_count": 11
        }
      ]
    },
    {
      "cell_type": "code",
      "source": [
        "okt = Okt()\n",
        "\n",
        "tokenized_data = []\n",
        "for sentence in tqdm(df['information']):\n",
        "    tokenized_sentence = okt.morphs(sentence, stem=True) # 토큰화\n",
        "    stopwords_removed_sentence = [word for word in tokenized_sentence if not word in stopwords] # 불용어 제거\n",
        "    tokenized_data.append(stopwords_removed_sentence)"
      ],
      "metadata": {
        "colab": {
          "base_uri": "https://localhost:8080/"
        },
        "id": "1ofvBXwswaps",
        "outputId": "e9aa036a-d7f0-43dc-887d-d52e1d8184d4"
      },
      "execution_count": 12,
      "outputs": [
        {
          "output_type": "stream",
          "name": "stderr",
          "text": [
            "100%|██████████| 1898/1898 [00:42<00:00, 44.20it/s] \n"
          ]
        }
      ]
    },
    {
      "cell_type": "code",
      "source": [
        "print(tokenized_data[:3])\n"
      ],
      "metadata": {
        "colab": {
          "base_uri": "https://localhost:8080/"
        },
        "id": "avZ7ywKnsfBD",
        "outputId": "4ce5e5b8-c523-4dd6-e683-85adfc3dbc8b"
      },
      "execution_count": 13,
      "outputs": [
        {
          "output_type": "stream",
          "name": "stdout",
          "text": [
            "[['조선', '태조', '년', '도읍', '을', '한양', '옮기다', '정국', '인', '경복궁', '을', '지다', '그리고', '궁', '정문', '인', '광화문', '앞', '길', '좌우', '의정부', '포함', '육조', '관아', '거리', '건설', '한양', '최고', '길', '이다', '년', '그', '길이', '다시', '열리다', '광화문', '에서', '청계', '광장', '이르다', '광장', '들어서다', '것', '이다', '광장', '크게', '광화문', '역사', '회복하다', '광장', '육', '조', '거리', '풍경', '을', '재현', '광장', '한국', '대표', '광장', '시민', '참여', '도시', '문화', '광장', '도심', '속', '광장', '청계천', '연결', '부로'], ['여의도', '빌딩', '볼거리', '먹다', '즐', '길거리', '등', '을', '갖추다', '복합', '공간', '이다', '빌딩', '맨', '꼭대기', '스카이', '텍', '전망', '하나', '만으로', '모든', '걸', '압도', '층', '스카이', '라운지', '워킹', '온', '더', '클라우드', '아름답다', '전망', '을', '보다', '식사', '수', '있다', '이탈리아', '레스토랑', '이다', '층', '위치', '중식', '당', '백리향', '특별하다', '맛', '있다', '곳', '이다', '백리향', '국내', '최초', '로', '철갑상어', '특선', '요리', '개발', '유명하다', '곳', '이다', '스퀘어', '씨월드', '아트', '홀', '카페', '레스토랑', '편의', '시설', '등', '모'], ['서울', '에서', '신발', '을', '벗다', '걸', '을', '수', '있다', '곳', '따스하다', '햇살', '을', '이불', '삼다', '낮잠', '을', '청', '수', '있다', '곳', '바로', '서', '울', '광장', '이다', '년', '월드컵', '함께', '시청', '앞', '광장', '다시', '태어나다', '지금', '일반', '시민', '물론', '서울', '을', '찾다', '외국', '관광객', '에게', '서울', '다양하다', '문화', '체험', '가능하다', '새롭다', '명소', '로', '자리다', '김', '광장', '잔디', '상태', '나쁘다', '않다', '날', '을', '제외', '하', '곤', '시민', '에게', '개방', '되다', '잔디', '광장', '옆', '에는', '바닥', '분', '수도', '준비', '되어다', '있다', '무덥다', '여름', '이면', '옷', '젖다', '줄', '모르다', '깔깔', '거리', '며', '뛰다']]\n"
          ]
        }
      ]
    },
    {
      "cell_type": "code",
      "source": [
        "# 리뷰 길이 분포 확인\n",
        "print('리뷰의 최대 길이 :',max(len(l) for l in tokenized_data))\n",
        "print('리뷰의 평균 길이 :',sum(map(len, tokenized_data))/len(tokenized_data))\n",
        "plt.hist([len(s) for s in tokenized_data], bins=50)\n",
        "plt.xlabel('length of samples')\n",
        "plt.ylabel('number of samples')\n",
        "plt.show()"
      ],
      "metadata": {
        "colab": {
          "base_uri": "https://localhost:8080/",
          "height": 485
        },
        "id": "G6xefG1ssg7t",
        "outputId": "7ee9c27b-ad3c-4035-f6fa-95cd4ad72fe5"
      },
      "execution_count": 14,
      "outputs": [
        {
          "output_type": "stream",
          "name": "stdout",
          "text": [
            "리뷰의 최대 길이 : 94\n",
            "리뷰의 평균 길이 : 52.69810326659642\n"
          ]
        },
        {
          "output_type": "display_data",
          "data": {
            "text/plain": [
              "<Figure size 640x480 with 1 Axes>"
            ],
            "image/png": "[encoded data removed]"
          },
          "metadata": {}
        }
      ]
    },
    {
      "cell_type": "code",
      "source": [
        "from gensim.models import Word2Vec\n",
        "model = Word2Vec(tokenized_data, window=5, min_count=5, workers=4, sg=0)"
      ],
      "metadata": {
        "id": "Jcpqh8lOpSJr"
      },
      "execution_count": 15,
      "outputs": []
    },
    {
      "cell_type": "code",
      "source": [
        "print('완성된 임베딩 매트릭스의 크기 확인 :', model.wv.vectors.shape)\n"
      ],
      "metadata": {
        "colab": {
          "base_uri": "https://localhost:8080/"
        },
        "id": "OcefHWC0k6Ow",
        "outputId": "cbc2b207-f54a-4ab8-c105-6869c46edbf2"
      },
      "execution_count": 16,
      "outputs": [
        {
          "output_type": "stream",
          "name": "stdout",
          "text": [
            "완성된 임베딩 매트릭스의 크기 확인 : (3011, 100)\n"
          ]
        }
      ]
    },
    {
      "cell_type": "code",
      "source": [
        "print(model.wv.most_similar(\"짱뚱어\"))\n"
      ],
      "metadata": {
        "colab": {
          "base_uri": "https://localhost:8080/"
        },
        "id": "E8Y8RijNlZp7",
        "outputId": "8a2751db-b4f3-4159-c939-7c195c421ad3"
      },
      "execution_count": 17,
      "outputs": [
        {
          "output_type": "stream",
          "name": "stdout",
          "text": [
            "[('해오다', 0.9967293739318848), ('쓰다', 0.9966186285018921), ('계', 0.9966098070144653), ('점', 0.9965762495994568), ('스콘', 0.996562123298645), ('마다', 0.9965546727180481), ('담기다', 0.996540367603302), ('풍', 0.9965220093727112), ('손맛', 0.9965074062347412), ('할머니', 0.9965026378631592)]\n"
          ]
        }
      ]
    },
    {
      "cell_type": "code",
      "metadata": {
        "colab": {
          "base_uri": "https://localhost:8080/",
          "height": 206
        },
        "id": "Km9Q_mYVyWgF",
        "outputId": "707ecbd5-beb7-4a47-d03f-f2a42900aa3e"
      },
      "source": [
        "df[:5]"
      ],
      "execution_count": 18,
      "outputs": [
        {
          "output_type": "execute_result",
          "data": {
            "text/plain": [
              "   index  place                                        information category\n",
              "0     16  광화문광장  조선 태조는 년에 도읍을 한양으로 옮기고 정국인 경복궁을 지었다 그리고 궁의 정문인...     랜드마크\n",
              "1     17  63스퀘어  여의도 빌딩은 볼거리 먹을거리 즐길거리 등을 갖춘 복합 공간이다 빌딩의 맨 꼭대기 ...     랜드마크\n",
              "2     18   서울광장  서울에서 신발을 벗고 걸을 수 있는 곳 따스한 햇살을 이불 삼아 낮잠을 청할 수 있...     랜드마크\n",
              "3     19    세빛섬  한강을 아름답게 밝혀주는 세 개의 빛나는 섬이란 의미를 지닌 세빛섬은 세계 최초의 ...     랜드마크\n",
              "4     20  국회의사당  여의도에 위치한 국회의사당은 한국의 민주주의와 인권을 상징하는 건물이다 국회의사당 ...     랜드마크"
            ],
            "text/html": [
              "\n",
              "  <div id=\"df-041ce8b5-7a60-48c9-8f9c-c8105620170a\" class=\"colab-df-container\">\n",
              "    <div>\n",
              "<style scoped>\n",
              "    .dataframe tbody tr th:only-of-type {\n",
              "        vertical-align: middle;\n",
              "    }\n",
              "\n",
              "    .dataframe tbody tr th {\n",
              "        vertical-align: top;\n",
              "    }\n",
              "\n",
              "    .dataframe thead th {\n",
              "        text-align: right;\n",
              "    }\n",
              "</style>\n",
              "<table border=\"1\" class=\"dataframe\">\n",
              "  <thead>\n",
              "    <tr style=\"text-align: right;\">\n",
              "      <th></th>\n",
              "      <th>index</th>\n",
              "      <th>place</th>\n",
              "      <th>information</th>\n",
              "      <th>category</th>\n",
              "    </tr>\n",
              "  </thead>\n",
              "  <tbody>\n",
              "    <tr>\n",
              "      <th>0</th>\n",
              "      <td>16</td>\n",
              "      <td>광화문광장</td>\n",
              "      <td>조선 태조는 년에 도읍을 한양으로 옮기고 정국인 경복궁을 지었다 그리고 궁의 정문인...</td>\n",
              "      <td>랜드마크</td>\n",
              "    </tr>\n",
              "    <tr>\n",
              "      <th>1</th>\n",
              "      <td>17</td>\n",
              "      <td>63스퀘어</td>\n",
              "      <td>여의도 빌딩은 볼거리 먹을거리 즐길거리 등을 갖춘 복합 공간이다 빌딩의 맨 꼭대기 ...</td>\n",
              "      <td>랜드마크</td>\n",
              "    </tr>\n",
              "    <tr>\n",
              "      <th>2</th>\n",
              "      <td>18</td>\n",
              "      <td>서울광장</td>\n",
              "      <td>서울에서 신발을 벗고 걸을 수 있는 곳 따스한 햇살을 이불 삼아 낮잠을 청할 수 있...</td>\n",
              "      <td>랜드마크</td>\n",
              "    </tr>\n",
              "    <tr>\n",
              "      <th>3</th>\n",
              "      <td>19</td>\n",
              "      <td>세빛섬</td>\n",
              "      <td>한강을 아름답게 밝혀주는 세 개의 빛나는 섬이란 의미를 지닌 세빛섬은 세계 최초의 ...</td>\n",
              "      <td>랜드마크</td>\n",
              "    </tr>\n",
              "    <tr>\n",
              "      <th>4</th>\n",
              "      <td>20</td>\n",
              "      <td>국회의사당</td>\n",
              "      <td>여의도에 위치한 국회의사당은 한국의 민주주의와 인권을 상징하는 건물이다 국회의사당 ...</td>\n",
              "      <td>랜드마크</td>\n",
              "    </tr>\n",
              "  </tbody>\n",
              "</table>\n",
              "</div>\n",
              "    <div class=\"colab-df-buttons\">\n",
              "\n",
              "  <div class=\"colab-df-container\">\n",
              "    <button class=\"colab-df-convert\" onclick=\"convertToInteractive('df-041ce8b5-7a60-48c9-8f9c-c8105620170a')\"\n",
              "            title=\"Convert this dataframe to an interactive table.\"\n",
              "            style=\"display:none;\">\n",
              "\n",
              "  <svg xmlns=\"http://www.w3.org/2000/svg\" height=\"24px\" viewBox=\"0 -960 960 960\">\n",
              "    <path d=\"M120-120v-720h720v720H120Zm60-500h600v-160H180v160Zm220 220h160v-160H400v160Zm0 220h160v-160H400v160ZM180-400h160v-160H180v160Zm440 0h160v-160H620v160ZM180-180h160v-160H180v160Zm440 0h160v-160H620v160Z\"/>\n",
              "  </svg>\n",
              "    </button>\n",
              "\n",
              "  <style>\n",
              "    .colab-df-container {\n",
              "      display:flex;\n",
              "      gap: 12px;\n",
              "    }\n",
              "\n",
              "    .colab-df-convert {\n",
              "      background-color: #E8F0FE;\n",
              "      border: none;\n",
              "      border-radius: 50%;\n",
              "      cursor: pointer;\n",
              "      display: none;\n",
              "      fill: #1967D2;\n",
              "      height: 32px;\n",
              "      padding: 0 0 0 0;\n",
              "      width: 32px;\n",
              "    }\n",
              "\n",
              "    .colab-df-convert:hover {\n",
              "      background-color: #E2EBFA;\n",
              "      box-shadow: 0px 1px 2px rgba(60, 64, 67, 0.3), 0px 1px 3px 1px rgba(60, 64, 67, 0.15);\n",
              "      fill: #174EA6;\n",
              "    }\n",
              "\n",
              "    .colab-df-buttons div {\n",
              "      margin-bottom: 4px;\n",
              "    }\n",
              "\n",
              "    [theme=dark] .colab-df-convert {\n",
              "      background-color: #3B4455;\n",
              "      fill: #D2E3FC;\n",
              "    }\n",
              "\n",
              "    [theme=dark] .colab-df-convert:hover {\n",
              "      background-color: #434B5C;\n",
              "      box-shadow: 0px 1px 3px 1px rgba(0, 0, 0, 0.15);\n",
              "      filter: drop-shadow(0px 1px 2px rgba(0, 0, 0, 0.3));\n",
              "      fill: #FFFFFF;\n",
              "    }\n",
              "  </style>\n",
              "\n",
              "    <script>\n",
              "      const buttonEl =\n",
              "        document.querySelector('#df-041ce8b5-7a60-48c9-8f9c-c8105620170a button.colab-df-convert');\n",
              "      buttonEl.style.display =\n",
              "        google.colab.kernel.accessAllowed ? 'block' : 'none';\n",
              "\n",
              "      async function convertToInteractive(key) {\n",
              "        const element = document.querySelector('#df-041ce8b5-7a60-48c9-8f9c-c8105620170a');\n",
              "        const dataTable =\n",
              "          await google.colab.kernel.invokeFunction('convertToInteractive',\n",
              "                                                    [key], {});\n",
              "        if (!dataTable) return;\n",
              "\n",
              "        const docLinkHtml = 'Like what you see? Visit the ' +\n",
              "          '<a target=\"_blank\" href=https://colab.research.google.com/notebooks/data_table.ipynb>data table notebook</a>'\n",
              "          + ' to learn more about interactive tables.';\n",
              "        element.innerHTML = '';\n",
              "        dataTable['output_type'] = 'display_data';\n",
              "        await google.colab.output.renderOutput(dataTable, element);\n",
              "        const docLink = document.createElement('div');\n",
              "        docLink.innerHTML = docLinkHtml;\n",
              "        element.appendChild(docLink);\n",
              "      }\n",
              "    </script>\n",
              "  </div>\n",
              "\n",
              "\n",
              "<div id=\"df-2a97db4d-b798-48b4-be04-b59738abb291\">\n",
              "  <button class=\"colab-df-quickchart\" onclick=\"quickchart('df-2a97db4d-b798-48b4-be04-b59738abb291')\"\n",
              "            title=\"Suggest charts.\"\n",
              "            style=\"display:none;\">\n",
              "\n",
              "<svg xmlns=\"http://www.w3.org/2000/svg\" height=\"24px\"viewBox=\"0 0 24 24\"\n",
              "     width=\"24px\">\n",
              "    <g>\n",
              "        <path d=\"M19 3H5c-1.1 0-2 .9-2 2v14c0 1.1.9 2 2 2h14c1.1 0 2-.9 2-2V5c0-1.1-.9-2-2-2zM9 17H7v-7h2v7zm4 0h-2V7h2v10zm4 0h-2v-4h2v4z\"/>\n",
              "    </g>\n",
              "</svg>\n",
              "  </button>\n",
              "\n",
              "<style>\n",
              "  .colab-df-quickchart {\n",
              "      --bg-color: #E8F0FE;\n",
              "      --fill-color: #1967D2;\n",
              "      --hover-bg-color: #E2EBFA;\n",
              "      --hover-fill-color: #174EA6;\n",
              "      --disabled-fill-color: #AAA;\n",
              "      --disabled-bg-color: #DDD;\n",
              "  }\n",
              "\n",
              "  [theme=dark] .colab-df-quickchart {\n",
              "      --bg-color: #3B4455;\n",
              "      --fill-color: #D2E3FC;\n",
              "      --hover-bg-color: #434B5C;\n",
              "      --hover-fill-color: #FFFFFF;\n",
              "      --disabled-bg-color: #3B4455;\n",
              "      --disabled-fill-color: #666;\n",
              "  }\n",
              "\n",
              "  .colab-df-quickchart {\n",
              "    background-color: var(--bg-color);\n",
              "    border: none;\n",
              "    border-radius: 50%;\n",
              "    cursor: pointer;\n",
              "    display: none;\n",
              "    fill: var(--fill-color);\n",
              "    height: 32px;\n",
              "    padding: 0;\n",
              "    width: 32px;\n",
              "  }\n",
              "\n",
              "  .colab-df-quickchart:hover {\n",
              "    background-color: var(--hover-bg-color);\n",
              "    box-shadow: 0 1px 2px rgba(60, 64, 67, 0.3), 0 1px 3px 1px rgba(60, 64, 67, 0.15);\n",
              "    fill: var(--button-hover-fill-color);\n",
              "  }\n",
              "\n",
              "  .colab-df-quickchart-complete:disabled,\n",
              "  .colab-df-quickchart-complete:disabled:hover {\n",
              "    background-color: var(--disabled-bg-color);\n",
              "    fill: var(--disabled-fill-color);\n",
              "    box-shadow: none;\n",
              "  }\n",
              "\n",
              "  .colab-df-spinner {\n",
              "    border: 2px solid var(--fill-color);\n",
              "    border-color: transparent;\n",
              "    border-bottom-color: var(--fill-color);\n",
              "    animation:\n",
              "      spin 1s steps(1) infinite;\n",
              "  }\n",
              "\n",
              "  @keyframes spin {\n",
              "    0% {\n",
              "      border-color: transparent;\n",
              "      border-bottom-color: var(--fill-color);\n",
              "      border-left-color: var(--fill-color);\n",
              "    }\n",
              "    20% {\n",
              "      border-color: transparent;\n",
              "      border-left-color: var(--fill-color);\n",
              "      border-top-color: var(--fill-color);\n",
              "    }\n",
              "    30% {\n",
              "      border-color: transparent;\n",
              "      border-left-color: var(--fill-color);\n",
              "      border-top-color: var(--fill-color);\n",
              "      border-right-color: var(--fill-color);\n",
              "    }\n",
              "    40% {\n",
              "      border-color: transparent;\n",
              "      border-right-color: var(--fill-color);\n",
              "      border-top-color: var(--fill-color);\n",
              "    }\n",
              "    60% {\n",
              "      border-color: transparent;\n",
              "      border-right-color: var(--fill-color);\n",
              "    }\n",
              "    80% {\n",
              "      border-color: transparent;\n",
              "      border-right-color: var(--fill-color);\n",
              "      border-bottom-color: var(--fill-color);\n",
              "    }\n",
              "    90% {\n",
              "      border-color: transparent;\n",
              "      border-bottom-color: var(--fill-color);\n",
              "    }\n",
              "  }\n",
              "</style>\n",
              "\n",
              "  <script>\n",
              "    async function quickchart(key) {\n",
              "      const quickchartButtonEl =\n",
              "        document.querySelector('#' + key + ' button');\n",
              "      quickchartButtonEl.disabled = true;  // To prevent multiple clicks.\n",
              "      quickchartButtonEl.classList.add('colab-df-spinner');\n",
              "      try {\n",
              "        const charts = await google.colab.kernel.invokeFunction(\n",
              "            'suggestCharts', [key], {});\n",
              "      } catch (error) {\n",
              "        console.error('Error during call to suggestCharts:', error);\n",
              "      }\n",
              "      quickchartButtonEl.classList.remove('colab-df-spinner');\n",
              "      quickchartButtonEl.classList.add('colab-df-quickchart-complete');\n",
              "    }\n",
              "    (() => {\n",
              "      let quickchartButtonEl =\n",
              "        document.querySelector('#df-2a97db4d-b798-48b4-be04-b59738abb291 button');\n",
              "      quickchartButtonEl.style.display =\n",
              "        google.colab.kernel.accessAllowed ? 'block' : 'none';\n",
              "    })();\n",
              "  </script>\n",
              "</div>\n",
              "    </div>\n",
              "  </div>\n"
            ]
          },
          "metadata": {},
          "execution_count": 18
        }
      ]
    },
    {
      "cell_type": "code",
      "metadata": {
        "id": "R-mZ0DCZ4Vp8"
      },
      "source": [
        "import urllib.request\n",
        "import pandas as pd\n",
        "import numpy as np\n",
        "import matplotlib.pyplot as plt\n",
        "import requests\n",
        "import re\n",
        "from PIL import Image\n",
        "from io import BytesIO\n",
        "from nltk.tokenize import RegexpTokenizer\n",
        "import nltk\n",
        "from gensim.models import Word2Vec\n",
        "from gensim.models import KeyedVectors\n",
        "from nltk.corpus import stopwords\n",
        "from sklearn.metrics.pairwise import cosine_similarity"
      ],
      "execution_count": 19,
      "outputs": []
    },
    {
      "cell_type": "markdown",
      "source": [
        "# 2. 사전 훈련된 워드 임베딩 사용하기"
      ],
      "metadata": {
        "id": "iknI_iRBZu1M"
      }
    },
    {
      "cell_type": "code",
      "source": [
        "word2vec_model.corpus_count"
      ],
      "metadata": {
        "colab": {
          "base_uri": "https://localhost:8080/"
        },
        "id": "jows2ikmUWYH",
        "outputId": "bb919364-99d6-4f56-de3a-4feddc83e191"
      },
      "execution_count": 29,
      "outputs": [
        {
          "output_type": "execute_result",
          "data": {
            "text/plain": [
              "1898"
            ]
          },
          "metadata": {},
          "execution_count": 29
        }
      ]
    },
    {
      "cell_type": "code",
      "metadata": {
        "colab": {
          "base_uri": "https://localhost:8080/"
        },
        "id": "EAtjvTMFy2N1",
        "outputId": "938b8b45-5478-4c61-9e11-b26c2774a733"
      },
      "source": [
        "word2vec_model = Word2Vec(vector_size = 300, window=5, min_count = 2, workers = -1)\n",
        "word2vec_model.build_vocab(tokenized_data)\n",
        "#word2vec_model.intersect_word2vec_format('/content/my_home/MyDrive/Colab Notebooks/ko.bin', lockf=1.0, binary=True)\n",
        "word2vec_model.train(tokenized_data, total_examples = word2vec_model.corpus_count, epochs = 15)"
      ],
      "execution_count": 28,
      "outputs": [
        {
          "output_type": "stream",
          "name": "stderr",
          "text": [
            "WARNING:gensim.models.word2vec:EPOCH 0: supplied example count (0) did not equal expected count (1898)\n",
            "WARNING:gensim.models.word2vec:EPOCH 1: supplied example count (0) did not equal expected count (1898)\n",
            "WARNING:gensim.models.word2vec:EPOCH 2: supplied example count (0) did not equal expected count (1898)\n",
            "WARNING:gensim.models.word2vec:EPOCH 3: supplied example count (0) did not equal expected count (1898)\n",
            "WARNING:gensim.models.word2vec:EPOCH 4: supplied example count (0) did not equal expected count (1898)\n",
            "WARNING:gensim.models.word2vec:EPOCH 5: supplied example count (0) did not equal expected count (1898)\n",
            "WARNING:gensim.models.word2vec:EPOCH 6: supplied example count (0) did not equal expected count (1898)\n",
            "WARNING:gensim.models.word2vec:EPOCH 7: supplied example count (0) did not equal expected count (1898)\n",
            "WARNING:gensim.models.word2vec:EPOCH 8: supplied example count (0) did not equal expected count (1898)\n",
            "WARNING:gensim.models.word2vec:EPOCH 9: supplied example count (0) did not equal expected count (1898)\n",
            "WARNING:gensim.models.word2vec:EPOCH 10: supplied example count (0) did not equal expected count (1898)\n",
            "WARNING:gensim.models.word2vec:EPOCH 11: supplied example count (0) did not equal expected count (1898)\n",
            "WARNING:gensim.models.word2vec:EPOCH 12: supplied example count (0) did not equal expected count (1898)\n",
            "WARNING:gensim.models.word2vec:EPOCH 13: supplied example count (0) did not equal expected count (1898)\n",
            "WARNING:gensim.models.word2vec:EPOCH 14: supplied example count (0) did not equal expected count (1898)\n"
          ]
        },
        {
          "output_type": "execute_result",
          "data": {
            "text/plain": [
              "(0, 0)"
            ]
          },
          "metadata": {},
          "execution_count": 28
        }
      ]
    },
    {
      "cell_type": "code",
      "source": [
        "from gensim.models import Word2Vec\n",
        "from gensim.models import KeyedVectors\n",
        "\n",
        "# Word2Vec 모델 초기화\n",
        "word2vec_model = Word2Vec(vector_size=300, window=5, min_count=2, workers=-1)\n",
        "word2vec_model.build_vocab(tokenized_data)\n",
        "\n",
        "# 한국어 워드 임베딩 불러오기\n",
        "#ko_word_vectors = KeyedVectors.load_word2vec_format('/content/my_home/MyDrive/Colab Notebooks/ko.bin')\n",
        "\n",
        "# Word2Vec 모델에 한국어 워드 임베딩 추가\n",
        "#word2vec_model.wv.add(ko_word_vectors)\n",
        "\n",
        "# 나머지 훈련 코드\n",
        "word2vec_model.train(tokenized_data, total_examples=word2vec_model.corpus_count, epochs=15)\n"
      ],
      "metadata": {
        "colab": {
          "base_uri": "https://localhost:8080/"
        },
        "id": "jLeUa412SxPh",
        "outputId": "2f063a32-f0e3-49f6-bd28-2e0b97d96df2"
      },
      "execution_count": 27,
      "outputs": [
        {
          "output_type": "stream",
          "name": "stderr",
          "text": [
            "WARNING:gensim.models.word2vec:EPOCH 0: supplied example count (0) did not equal expected count (1898)\n",
            "WARNING:gensim.models.word2vec:EPOCH 1: supplied example count (0) did not equal expected count (1898)\n",
            "WARNING:gensim.models.word2vec:EPOCH 2: supplied example count (0) did not equal expected count (1898)\n",
            "WARNING:gensim.models.word2vec:EPOCH 3: supplied example count (0) did not equal expected count (1898)\n",
            "WARNING:gensim.models.word2vec:EPOCH 4: supplied example count (0) did not equal expected count (1898)\n",
            "WARNING:gensim.models.word2vec:EPOCH 5: supplied example count (0) did not equal expected count (1898)\n",
            "WARNING:gensim.models.word2vec:EPOCH 6: supplied example count (0) did not equal expected count (1898)\n",
            "WARNING:gensim.models.word2vec:EPOCH 7: supplied example count (0) did not equal expected count (1898)\n",
            "WARNING:gensim.models.word2vec:EPOCH 8: supplied example count (0) did not equal expected count (1898)\n",
            "WARNING:gensim.models.word2vec:EPOCH 9: supplied example count (0) did not equal expected count (1898)\n",
            "WARNING:gensim.models.word2vec:EPOCH 10: supplied example count (0) did not equal expected count (1898)\n",
            "WARNING:gensim.models.word2vec:EPOCH 11: supplied example count (0) did not equal expected count (1898)\n",
            "WARNING:gensim.models.word2vec:EPOCH 12: supplied example count (0) did not equal expected count (1898)\n",
            "WARNING:gensim.models.word2vec:EPOCH 13: supplied example count (0) did not equal expected count (1898)\n",
            "WARNING:gensim.models.word2vec:EPOCH 14: supplied example count (0) did not equal expected count (1898)\n"
          ]
        },
        {
          "output_type": "execute_result",
          "data": {
            "text/plain": [
              "(0, 0)"
            ]
          },
          "metadata": {},
          "execution_count": 27
        }
      ]
    },
    {
      "cell_type": "markdown",
      "source": [
        "# 3. 단어 벡터의 평균 구하기"
      ],
      "metadata": {
        "id": "Miu0LuYTZwYx"
      }
    },
    {
      "cell_type": "code",
      "metadata": {
        "id": "pt0Qn49hB8VM"
      },
      "source": [
        "def get_document_vectors(document_list, word2vec_model):\n",
        "    document_embedding_list = []\n",
        "\n",
        "    # 각 문서에 대해서\n",
        "    for line in document_list:\n",
        "        doc2vec = None\n",
        "        count = 0\n",
        "        for word in line.split():\n",
        "            if word in word2vec_model.wv.key_to_index:\n",
        "                count += 1\n",
        "                # 해당 문서에 있는 모든 단어들의 벡터값을 더한다.\n",
        "                if doc2vec is None:\n",
        "                    doc2vec = word2vec_model.wv[word]\n",
        "                else:\n",
        "                    doc2vec = doc2vec + word2vec_model.wv[word]\n",
        "\n",
        "        if doc2vec is not None:\n",
        "            # 단어 벡터를 모두 더한 벡터의 값을 문서 길이로 나눠준다.\n",
        "            doc2vec = doc2vec / count\n",
        "            document_embedding_list.append(doc2vec)\n",
        "\n",
        "    # 각 문서에 대한 문서 벡터 리스트를 리턴\n",
        "    return document_embedding_list\n"
      ],
      "execution_count": 33,
      "outputs": []
    },
    {
      "cell_type": "code",
      "metadata": {
        "id": "0Cw-PAQm0x1d"
      },
      "source": [
        "document_embedding_list = get_document_vectors(df['information'],word2vec_model)"
      ],
      "execution_count": 35,
      "outputs": []
    },
    {
      "cell_type": "code",
      "metadata": {
        "colab": {
          "base_uri": "https://localhost:8080/"
        },
        "id": "fCd6vI8O00_j",
        "outputId": "79e34967-5d30-4c85-f4e8-5f0e5c5649f8"
      },
      "source": [
        "print('문서 벡터의 수 :',len(document_embedding_list))"
      ],
      "execution_count": 36,
      "outputs": [
        {
          "output_type": "stream",
          "name": "stdout",
          "text": [
            "문서 벡터의 수 : 1895\n"
          ]
        }
      ]
    },
    {
      "cell_type": "markdown",
      "source": [
        "# 4. 추천 시스템 구현하기"
      ],
      "metadata": {
        "id": "0cSB1ZlXaDxp"
      }
    },
    {
      "cell_type": "code",
      "metadata": {
        "id": "YZs698x2Aytq"
      },
      "source": [
        "cosine_similarities = cosine_similarity(document_embedding_list, document_embedding_list)"
      ],
      "execution_count": 37,
      "outputs": []
    },
    {
      "cell_type": "code",
      "metadata": {
        "colab": {
          "base_uri": "https://localhost:8080/"
        },
        "id": "HtYC7dDn6HCT",
        "outputId": "946f779b-208d-4da3-a5fa-5652d49fea92"
      },
      "source": [
        "cosine_similarities[0]"
      ],
      "execution_count": 38,
      "outputs": [
        {
          "output_type": "execute_result",
          "data": {
            "text/plain": [
              "array([ 0.99999994,  0.03917111,  0.15269181, ...,  0.00336464,\n",
              "       -0.11211045,  0.0632601 ], dtype=float32)"
            ]
          },
          "metadata": {},
          "execution_count": 38
        }
      ]
    },
    {
      "cell_type": "code",
      "metadata": {
        "colab": {
          "base_uri": "https://localhost:8080/"
        },
        "id": "O1IHixJn6DPt",
        "outputId": "82ceba9b-3960-43a8-b9f4-8cf443c578b8"
      },
      "source": [
        "print('코사인 유사도 매트릭스의 크기 :',cosine_similarities.shape)"
      ],
      "execution_count": 39,
      "outputs": [
        {
          "output_type": "stream",
          "name": "stdout",
          "text": [
            "코사인 유사도 매트릭스의 크기 : (1895, 1895)\n"
          ]
        }
      ]
    },
    {
      "cell_type": "code",
      "metadata": {
        "id": "Zp6bMcVI1qF0"
      },
      "source": [
        "def recommendations(place):\n",
        "    travel = df[['place', 'category','information']]\n",
        "\n",
        "    # 책의 제목을 입력하면 해당 제목의 인덱스를 리턴받아 idx에 저장.\n",
        "    indices = pd.Series(df.index, index = df['place']).drop_duplicates()\n",
        "    idx = indices[place]\n",
        "\n",
        "    # 입력된 책과 줄거리(document embedding)가 유사한 책 5개 선정.\n",
        "    sim_scores = list(enumerate(cosine_similarities[idx]))\n",
        "    sim_scores = sorted(sim_scores, key = lambda x: x[1], reverse = True)\n",
        "    sim_scores = sim_scores[1:6]\n",
        "\n",
        "    # 가장 유사한 책 5권의 인덱스\n",
        "    travel_indices = [i[0] for i in sim_scores]\n",
        "\n",
        "    # 전체 데이터프레임에서 해당 인덱스의 행만 추출. 5개의 행을 가진다.\n",
        "    recommend = travel.iloc[travel_indices].reset_index(drop=True)\n",
        "    recommend\n",
        "    recommend.iterrows()\n",
        "    # 데이터프레임으로부터 순차적 출력\n",
        "    for index, row in recommend.iterrows():\n",
        "        #print( row[0],row[1],row[2],'+','\\n')\n",
        "        print(row)"
      ],
      "execution_count": 81,
      "outputs": []
    },
    {
      "cell_type": "code",
      "metadata": {
        "colab": {
          "base_uri": "https://localhost:8080/"
        },
        "id": "ukN_2yzhA_Ky",
        "outputId": "d1d25cf8-0801-4265-8dde-b74a890521f4"
      },
      "source": [
        "recommendations('반포대교 야경')"
      ],
      "execution_count": 80,
      "outputs": [
        {
          "output_type": "stream",
          "name": "stdout",
          "text": [
            "매봉산 야경 산 서울 대 야경 명소 중 하나로 선정된 매봉산은 성동구와 용산구에 걸쳐있는 산으로 남산과 연결되어 있어 많은 사람이 산책로 겸 관광의 목적으로도 많이 들르는 곳이다 산에 오르면 정상에 팔각정이 있어서 그곳에서 서울 시내 경치를 볼 수 있다관련 콘텐츠 정보 보기테마코스 서울 야경 어디서 즐기면 좋을까 + \n",
            "\n",
            "교보문고 광화문점 문화 매일 많은 사람들이 방문하는 교보문고 광화문점은 다양하고 수많은 책뿐만 아니라 문구류 등 다양한 물품들도 함께 만나 볼 수 있습니다 책을 좋아하는 사람들뿐만 아니라 넓은 매장에서 아이들과 함께 다양한 책들을 구경하고 구매할 수 있어 많은 사람들이 즐겨 찾는 서점이다 실내 데이트나 아이들과 함께 방문할 장소를 찾고 있었다면 책과 문화가 공존하는 교보문고 광화문점을 추천한다  + \n",
            "\n",
            "북악스카이웨이 북악팔각정 랜드마크 서울 하늘에 맞닿은 전망대연인들의 데이트 코스로 손꼽히는 북악스카이웨이는 남산서울타워와는 또 다른 각도로 서울 전체를 볼 수 있는 곳이다 년대만 해도 신혼부부들에게 최고의 드라이브 코스를 선사하는 신혼여행지였다 나선형으로 구불구불 이어지는 도로에는 잘 정비된 가로수와 계절마다 피고 지는 다양한 꽃의 향연이 펼쳐진다 빽빽하게 들어선 수풀 사이를 달리는 동안 서울의 하늘길 아래로 시내 전경이 보인다정상에 있는 팔각정에 오르면 산등성이를 + \n",
            "\n",
            "북악산 야경 산 북악산은 보안상의 이유로 서울의 많은 산 중에서 가장 늦게 개방되었다 야경 데이트 명소로 주목받는 곳이며 정상에 있는 팔각정에서 서울 시내의 야경을 구경할 수 있다 팔각정 주변에는 산을 따라 산책로가 조성되어있다 + \n",
            "\n",
            "부티크모나코 휴식 세련된 인테리어의 부티크모나코는 아방가르드 비즈 펜트하우스라는 독특한 콘셉트의 오피스텔로 유명하다 현대적인 강남의 야경이 매력적으로 한눈에 들어온다 분양을 시작한 지 얼마 되지 않아 모두 팔릴 정도로 인기가 좋았으며 서초를 대표하는 건축물로 자리 잡았다 + \n",
            "\n"
          ]
        }
      ]
    },
    {
      "cell_type": "code",
      "metadata": {
        "colab": {
          "base_uri": "https://localhost:8080/"
        },
        "id": "A4hbvAeTBA30",
        "outputId": "6049a221-e0e2-42c0-f8d4-b4962a9641f4"
      },
      "source": [
        "recommendations(\"경복궁\")"
      ],
      "execution_count": 82,
      "outputs": [
        {
          "output_type": "stream",
          "name": "stdout",
          "text": [
            "place                                                      벨라프라하\n",
            "category                                                  카페&디저트\n",
            "information    핸드드립 커피와 뜨르들르를 맛볼 수 있는 것으로 명소가 된 곳 에스프레소 핸드드립 ...\n",
            "Name: 0, dtype: object\n",
            "place                                                       가람국시\n",
            "category                                                      한식\n",
            "information    깔끔한 경상도식 국수국시를 전문으로 하는 곳이다 소고기국시와 멸치국시가 인기가 있고...\n",
            "Name: 1, dtype: object\n",
            "place                                             아라리오뮤지엄 인 스페이스\n",
            "category                                                 미술관&박물관\n",
            "information    아라리오뮤지엄은 아라리오의 창업자인 김창일 회장이 설립한 아트뮤지엄이다 서울에 설립...\n",
            "Name: 2, dtype: object\n",
            "place                                                 서소문성지역사박물관\n",
            "category                                                 미술관&박물관\n",
            "information    서소문성지역사박물관은 조선 후기 한국 교회사를 한눈에 살펴볼 수 있는 역사박물관이다...\n",
            "Name: 3, dtype: object\n",
            "place                                                        파낙스\n",
            "category                                                      한식\n",
            "information    단순하고 깔끔한 옛 맛이 나는 삼계탕을 맛볼 수 있다 년이 넘는 경력을 자랑하며 삼...\n",
            "Name: 4, dtype: object\n"
          ]
        }
      ]
    },
    {
      "cell_type": "code",
      "source": [
        "recommendations('경복궁')"
      ],
      "metadata": {
        "colab": {
          "base_uri": "https://localhost:8080/"
        },
        "id": "cva8E4MCYVmf",
        "outputId": "2eb031f3-6568-4e97-f508-62dcf4aaf900"
      },
      "execution_count": 60,
      "outputs": [
        {
          "output_type": "stream",
          "name": "stdout",
          "text": [
            "place        벨라프라하\n",
            "category    카페&디저트\n",
            "Name: 0, dtype: object + 조선 태조는 년에 도읍을 한양으로 옮기고 정국인 경복궁을 지었다 그리고 궁의 정문인 광화문 앞 길의 좌우에 의정부를 포함해 육조 관아 거리를 건설했다 한양 최고의 길이었다 년 그 길이 다시 열렸다 광화문에서 청계광장에 이르는 광장이 들어선 것이다 광장은 크게 광화문의 역사를 회복하는 광장 육조거리의 풍경을 재현하는 광장 한국의 대표 광장 시민들이 참여하는 도시문화 광장 도심 속의 광장 청계천 연결부로\n",
            "place       가람국시\n",
            "category      한식\n",
            "Name: 1, dtype: object + 여의도 빌딩은 볼거리 먹을거리 즐길거리 등을 갖춘 복합 공간이다 빌딩의 맨 꼭대기  스카이텍은 전망 하나만으로 모든 걸 압도한다 층 스카이라운지 워킹 온 더 클라우드는 아름다운 전망을 보며 식사를 할 수 있는 이탈리아 레스토랑이다 층에 위치한 중식당 백리향도 특별한 맛이 있는 곳이다 백리향은 국내 최초로 철갑상어 특선 요리를 개발해 유명해진 곳이다 스퀘어는 씨월드 아트홀 카페와 레스토랑 편의 시설등 모\n",
            "place       아라리오뮤지엄 인 스페이스\n",
            "category           미술관&박물관\n",
            "Name: 2, dtype: object + 서울에서 신발을 벗고 걸을 수 있는 곳 따스한 햇살을 이불 삼아 낮잠을 청할 수 있는 곳 바로 서울광장이다 년 월드컵과 함께 시청 앞 광장은 다시 태어났고 지금은 일반 시민들은 물론 서울을 찾는 외국 관광객들에게 서울의 다양한 문화 체험이 가능한 새로운 명소로 자리매김했다 광장은 잔디 상태가 나쁘지 않은 날을 제외하곤 시민들에게 개방된다 잔디광장 옆에는 바닥분수도 준비되어 있다 무더운 여름이면 옷이 젖는 줄도 모르고 깔깔 거리며 뛰어\n",
            "place       서소문성지역사박물관\n",
            "category       미술관&박물관\n",
            "Name: 3, dtype: object + 한강을 아름답게 밝혀주는 세 개의 빛나는 섬이란 의미를 지닌 세빛섬은 세계 최초의 수상 문화공간이다 가빛섬 채빛섬 솔빛섬 예빛섬 등 총 개의 인공섬으로 이뤄져 있으며 웨딩 컨벤션을 비롯해 이탈리안 레스토랑 뷔페 카페가 마련되어 있고 수상 레저를 즐길 수 있는 요트 튜브스터와 각종 전시 공연 이벤트가 이뤄지는 공간으로 활용되고 있다 서울의 야간명소로도 손꼽히는 세빛섬은 화려하고 아름다운  조명이 한강과 어우러지는 환상적인 \n",
            "place       파낙스\n",
            "category     한식\n",
            "Name: 4, dtype: object + 여의도에 위치한 국회의사당은 한국의 민주주의와 인권을 상징하는 건물이다 국회의사당 본관이 있고 그 오른쪽에는 국회도서관이 왼쪽에는 의원회관이 있다 국회 참관은 참관희망일 기준 일 전까지 온라인 예약을 해야 한다 국회의사당역 번 번 출구로 나오면 쉽게 찾을 수 있다\n"
          ]
        }
      ]
    },
    {
      "cell_type": "code",
      "source": [],
      "metadata": {
        "id": "sIGBnAj8X6HB"
      },
      "execution_count": null,
      "outputs": []
    }
  ]
}